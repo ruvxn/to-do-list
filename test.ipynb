{
 "cells": [
  {
   "cell_type": "code",
   "execution_count": 1,
   "metadata": {},
   "outputs": [
    {
     "name": "stdout",
     "output_type": "stream",
     "text": [
      "the_blueman\n",
      "sorted_hedgehog\n",
      "infinite_lagoon\n"
     ]
    }
   ],
   "source": [
    "usernames = ['the blueman', 'sorted hedgehog', 'infinite lagoon']\n",
    "\n",
    "for i in usernames:\n",
    "    username = i.replace(\" \", \"_\")\n",
    "    print(username)\n"
   ]
  },
  {
   "cell_type": "code",
   "execution_count": 3,
   "metadata": {},
   "outputs": [
    {
     "name": "stdout",
     "output_type": "stream",
     "text": [
      "[1.23, 1.45, 1.02, 1.11]\n"
     ]
    }
   ],
   "source": [
    "seconds = [1.23, 1.45, 1.02]\n",
    "current = 1.11\n",
    "\n",
    "seconds.append(current)\n",
    "print(seconds)"
   ]
  },
  {
   "cell_type": "code",
   "execution_count": 4,
   "metadata": {},
   "outputs": [
    {
     "name": "stdout",
     "output_type": "stream",
     "text": [
      "0 : table\n",
      "1 : chair\n",
      "2 : door\n"
     ]
    }
   ],
   "source": [
    "products = ['table', 'chair', 'door']\n",
    "\n",
    "for index, product in enumerate(products):\n",
    "    print(index, \":\", product)"
   ]
  },
  {
   "cell_type": "code",
   "execution_count": 5,
   "metadata": {},
   "outputs": [
    {
     "name": "stdout",
     "output_type": "stream",
     "text": [
      "product: table\n",
      "product: chair\n",
      "product: door\n"
     ]
    }
   ],
   "source": [
    "products = ['table', 'chair', 'door']\n",
    "\n",
    "for index, product in enumerate(products):\n",
    "    print(\"product:\", product)\n"
   ]
  },
  {
   "cell_type": "code",
   "execution_count": 6,
   "metadata": {},
   "outputs": [
    {
     "name": "stdout",
     "output_type": "stream",
     "text": [
      "0-document.txt\n",
      "1-report.txt\n",
      "2-presentation.txt\n"
     ]
    }
   ],
   "source": [
    "filenames = ['document', 'report', 'presentation']\n",
    "\n",
    "for index, filename in enumerate(filenames):\n",
    "    print(f\"{index}-{filename}.txt\")"
   ]
  },
  {
   "cell_type": "code",
   "execution_count": 7,
   "metadata": {},
   "outputs": [
    {
     "name": "stdout",
     "output_type": "stream",
     "text": [
      "0-Document.txt\n",
      "1-Report.txt\n",
      "2-Presentation.txt\n"
     ]
    }
   ],
   "source": [
    "filenames = ['document', 'report', 'presentation']\n",
    "\n",
    "for index, filename in enumerate(filenames):\n",
    "    filename_c = filename.capitalize() \n",
    "    print(f\"{index}-{filename_c}.txt\")"
   ]
  },
  {
   "cell_type": "code",
   "execution_count": 11,
   "metadata": {},
   "outputs": [
    {
     "name": "stdout",
     "output_type": "stream",
     "text": [
      "[1.23, 1.02, 1.11]\n"
     ]
    }
   ],
   "source": [
    "seconds = [1.23, 1.45, 1.02, 1.11]\n",
    "\n",
    "seconds.remove(1.45)\n",
    "print(seconds)"
   ]
  },
  {
   "cell_type": "code",
   "execution_count": null,
   "metadata": {},
   "outputs": [],
   "source": []
  }
 ],
 "metadata": {
  "kernelspec": {
   "display_name": "base",
   "language": "python",
   "name": "python3"
  },
  "language_info": {
   "codemirror_mode": {
    "name": "ipython",
    "version": 3
   },
   "file_extension": ".py",
   "mimetype": "text/x-python",
   "name": "python",
   "nbconvert_exporter": "python",
   "pygments_lexer": "ipython3",
   "version": "3.12.7"
  }
 },
 "nbformat": 4,
 "nbformat_minor": 2
}
